{
 "cells": [
  {
   "cell_type": "code",
   "execution_count": 4,
   "metadata": {},
   "outputs": [],
   "source": [
    "import re\n",
    "from collections import Counter\n",
    "import spacy\n",
    "from nltk import pos_tag\n",
    "from nltk.tokenize import word_tokenize"
   ]
  },
  {
   "cell_type": "code",
   "execution_count": 8,
   "metadata": {},
   "outputs": [
    {
     "name": "stdout",
     "output_type": "stream",
     "text": [
      "Hey Doc, zeige mir doch bitte mal die Röntgenbilder, die letzte Woche bei Patient 136 gemacht wurden.\n"
     ]
    }
   ],
   "source": [
    "#word2vec = spacy.load(\"en_core_web_sm\")\n",
    "#stop_words = set(stopwords.words(\"english\"))\n",
    "\n",
    "\n",
    "def preprocess(input_sentence):\n",
    "    input_sentence = input_sentence.lower()\n",
    "    input_sentence = re.sub(r'[^\\w\\s]', '', input_sentence)\n",
    "    tokens = word_tokenize(input_sentence)\n",
    "    #input_sentence = [i for i in tokens if not i in stop_words]\n",
    "    return #(input_sentence)\n",
    "\n",
    "\n",
    "def compare_overlap(user_message, possible_response):\n",
    "    similar_words = 0\n",
    "    for token in user_message:\n",
    "        if token in possible_response:\n",
    "            similar_words += 1\n",
    "    return similar_words\n",
    "\n",
    "\n",
    "def extract_nouns(tagged_message):\n",
    "    message_nouns = list()\n",
    "    for token in tagged_message:\n",
    "        if token[1].startswith(\"N\"):\n",
    "            message_nouns.append(token[0])\n",
    "    return message_nouns\n",
    "\n",
    "\n",
    "def compute_similarity(tokens, category):\n",
    "    output_list = list()\n",
    "    for token in tokens:\n",
    "        output_list.append([token.text, category.text, token.similarity(category)])\n",
    "    return output_list\n",
    "\n",
    "pt = pos_tag([\"zeigen\", \"Röntgenbilder\", \"Woche\", \"Patient\", \"136\", \"machen\", \"sein\"])\n",
    "\n",
    "\n",
    "print(\"Hey Doc, zeige mir doch bitte mal die Röntgenbilder, die letzte Woche bei Patient 136 gemacht wurden.\")"
   ]
  }
 ],
 "metadata": {
  "kernelspec": {
   "display_name": "Python 3",
   "language": "python",
   "name": "python3"
  },
  "language_info": {
   "codemirror_mode": {
    "name": "ipython",
    "version": 3
   },
   "file_extension": ".py",
   "mimetype": "text/x-python",
   "name": "python",
   "nbconvert_exporter": "python",
   "pygments_lexer": "ipython3",
   "version": "3.8.5"
  }
 },
 "nbformat": 4,
 "nbformat_minor": 4
}
