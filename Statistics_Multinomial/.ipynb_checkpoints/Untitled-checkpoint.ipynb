{
 "cells": [
  {
   "cell_type": "code",
   "execution_count": 23,
   "metadata": {},
   "outputs": [],
   "source": [
    "import requests\n",
    "import json"
   ]
  },
  {
   "cell_type": "code",
   "execution_count": 29,
   "metadata": {},
   "outputs": [
    {
     "name": "stdout",
     "output_type": "stream",
     "text": [
      "{\n",
      "    \"ActivityID\": 103,\n",
      "    \"ActivityName\": \"Herzfrequenz                                                                                        \",\n",
      "    \"ActivityRemarks\": \"Voreingestellter Standardwert mit Skalierungsoption.\",\n",
      "    \"Adhoc\": true,\n",
      "    \"AverageDuration\": 2,\n",
      "    \"CategoryID\": 2,\n",
      "    \"DefaultValue01\": \"80\",\n",
      "    \"DefaultValue02\": \"0\",\n",
      "    \"DocType\": \"Wert                                              \",\n",
      "    \"Doctors\": false,\n",
      "    \"Dosage\": 0.0,\n",
      "    \"EndStandard\": null,\n",
      "    \"EveryEvening\": true,\n",
      "    \"EveryMorning\": true,\n",
      "    \"EveryNight\": null,\n",
      "    \"EveryNoon\": true,\n",
      "    \"EveryXhrs\": 0,\n",
      "    \"HospitalID\": 2,\n",
      "    \"ID\": 3250,\n",
      "    \"IncidentID\": 0,\n",
      "    \"InputValues\": 1,\n",
      "    \"MethodID\": 3,\n",
      "    \"NameOption01\": \"Herzfrequenz messen                                                                                 \",\n",
      "    \"NameOption02\": \"Messung Herzfrequenz                                                                                \",\n",
      "    \"NameOption0202\": \"                                                                                                    \",\n",
      "    \"NumberOfDays\": -2,\n",
      "    \"NumberPerDay\": 0,\n",
      "    \"Occurance\": 0,\n",
      "    \"OriginID\": 1,\n",
      "    \"PatientAssignedTasksDraftID\": 2982,\n",
      "    \"PatientAssignedTreatmentsID\": 236,\n",
      "    \"PatientID\": 9,\n",
      "    \"PerDemand\": null,\n",
      "    \"RefVitalTableColumn01\": 3,\n",
      "    \"RefVitalTableColumn02\": 0,\n",
      "    \"Remarks\": \"\",\n",
      "    \"Status2\": \"w4d\",\n",
      "    \"StatusID\": 1,\n",
      "    \"SubCategoryID\": 0,\n",
      "    \"TIME_LATE1\": \"2021-03-22T14:00:00\",\n",
      "    \"TIME_LATE2\": null,\n",
      "    \"TIME_LATE3\": null,\n",
      "    \"TIME_LATE4\": \"2021-03-22T16:00:00\",\n",
      "    \"TIME_NOTSHOWBEFORE\": \"2021-03-22T11:30:00\",\n",
      "    \"TIME_PLANNED\": \"2021-03-22T12:00:00\",\n",
      "    \"TreatmentID\": 107,\n",
      "    \"TreatmentItemID\": 1300,\n",
      "    \"Unit\": \"Schl\\u00e4ge/Min                                       \"\n",
      "}\n"
     ]
    }
   ],
   "source": [
    "body = {\"UserID\": \"9\", #mario.mauer@klinik.de\n",
    "        \"PatientID\": \"9\", #Petra Meier\n",
    "        \"RoleID\": \"8\"}\n",
    "url = \"https://psdev05.ultimuscps.com/Doc-Assist/api/ActiveTasks/GetPatientActiveNonMedicalTasksByID\"\n",
    "r = requests.post(url, data=body).json()\n",
    "#print(r)\n",
    "temperature = [d for d in r if \"Herzfrequenz\" in d.get(\"ActivityName\")]\n",
    "print(json.dumps(temperature[0], indent=4, sort_keys=True))"
   ]
  },
  {
   "cell_type": "code",
   "execution_count": 30,
   "metadata": {},
   "outputs": [
    {
     "name": "stdout",
     "output_type": "stream",
     "text": [
      "{\n",
      "    \"ActivityID\": 103,\n",
      "    \"ActivityName\": \"Herzfrequenz                                                                                        \",\n",
      "    \"ActivityRemarks\": \"Voreingestellter Standardwert mit Skalierungsoption.\",\n",
      "    \"Adhoc\": true,\n",
      "    \"AverageDuration\": 2,\n",
      "    \"CategoryID\": 2,\n",
      "    \"DefaultValue01\": \"80\",\n",
      "    \"DefaultValue02\": \"0\",\n",
      "    \"DocType\": \"Wert                                              \",\n",
      "    \"Doctors\": false,\n",
      "    \"Dosage\": 0.0,\n",
      "    \"EndStandard\": null,\n",
      "    \"EveryEvening\": true,\n",
      "    \"EveryMorning\": true,\n",
      "    \"EveryNight\": null,\n",
      "    \"EveryNoon\": true,\n",
      "    \"EveryXhrs\": 0,\n",
      "    \"HospitalID\": 2,\n",
      "    \"ID\": 3251,\n",
      "    \"IncidentID\": 0,\n",
      "    \"InputValues\": 1,\n",
      "    \"MethodID\": 3,\n",
      "    \"NameOption01\": \"Herzfrequenz messen                                                                                 \",\n",
      "    \"NameOption02\": \"Messung Herzfrequenz                                                                                \",\n",
      "    \"NameOption0202\": \"                                                                                                    \",\n",
      "    \"NumberOfDays\": -2,\n",
      "    \"NumberPerDay\": 0,\n",
      "    \"Occurance\": 0,\n",
      "    \"OriginID\": 1,\n",
      "    \"PatientAssignedTasksDraftID\": 2982,\n",
      "    \"PatientAssignedTreatmentsID\": 236,\n",
      "    \"PatientID\": 9,\n",
      "    \"PerDemand\": null,\n",
      "    \"RefVitalTableColumn01\": 3,\n",
      "    \"RefVitalTableColumn02\": 0,\n",
      "    \"Remarks\": \"\",\n",
      "    \"Status2\": \"w4d\",\n",
      "    \"StatusID\": 1,\n",
      "    \"SubCategoryID\": 0,\n",
      "    \"TIME_LATE1\": \"2021-03-22T14:00:00\",\n",
      "    \"TIME_LATE2\": null,\n",
      "    \"TIME_LATE3\": null,\n",
      "    \"TIME_LATE4\": \"2021-03-22T16:00:00\",\n",
      "    \"TIME_NOTSHOWBEFORE\": \"2021-03-22T11:30:00\",\n",
      "    \"TIME_PLANNED\": \"2021-03-22T12:00:00\",\n",
      "    \"TreatmentID\": 107,\n",
      "    \"TreatmentItemID\": 1300,\n",
      "    \"Unit\": \"Schl\\u00e4ge/Min                                       \"\n",
      "}\n"
     ]
    }
   ],
   "source": [
    "print(json.dumps(temperature[1], indent=4, sort_keys=True))"
   ]
  }
 ],
 "metadata": {
  "kernelspec": {
   "display_name": "Python 3",
   "language": "python",
   "name": "python3"
  },
  "language_info": {
   "codemirror_mode": {
    "name": "ipython",
    "version": 3
   },
   "file_extension": ".py",
   "mimetype": "text/x-python",
   "name": "python",
   "nbconvert_exporter": "python",
   "pygments_lexer": "ipython3",
   "version": "3.8.5"
  }
 },
 "nbformat": 4,
 "nbformat_minor": 4
}
