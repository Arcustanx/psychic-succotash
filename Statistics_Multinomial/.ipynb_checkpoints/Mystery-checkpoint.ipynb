{
 "cells": [
  {
   "cell_type": "markdown",
   "metadata": {},
   "source": [
    "# Aufgabe: Pandas - Mystery Game\n",
    "\n",
    "Folgend spielen wir ein kleines Spiel. Achten Sie auf die Details, halten Sie die Augen offen und schließen Sie Schlussfolgerungen um den Täter zu finden!!"
   ]
  },
  {
   "cell_type": "markdown",
   "metadata": {},
   "source": [
    "### Voraussetzungen:\n",
    "\n",
    "* Logische Abfrage in DataFrame: report1 = crime_scene_report[crime_scene_report['date'] == 20180115]\n",
    "* Sortieren nach einer Spalte: person_address.sort_values('address_number')\n",
    "* person_address.sort_values('address_number', ascending=False)\n",
    "* Zeilen, die in einer Spalte einen bestimmten Substring enthalten: person[person.name.str.contains('Annabel')]"
   ]
  },
  {
   "cell_type": "code",
   "execution_count": 69,
   "metadata": {},
   "outputs": [],
   "source": [
    "# import pandas\n",
    "import pandas as pd\n",
    "pd.options.display.max_colwidth = 500"
   ]
  },
  {
   "cell_type": "code",
   "execution_count": 70,
   "metadata": {},
   "outputs": [],
   "source": [
    "get_fit_now_check_in = pd.read_csv('get_fit_now_check_in.csv')\n",
    "get_fit_now_member = pd.read_csv('get_fit_now_member.csv')\n",
    "drivers_license = pd.read_csv('drivers_license.csv')\n",
    "person = pd.read_csv('person.csv')\n",
    "crime_scene_report = pd.read_csv('crime_scene_report.csv')\n",
    "interview = pd.read_csv('interview.csv')"
   ]
  },
  {
   "cell_type": "markdown",
   "metadata": {},
   "source": [
    "Es hat ein Verbrechen stattgefunden, und der Kommissar braucht Ihre Hilfe. Der Kommissar gab Ihnen den Tatortbericht, aber Sie haben ihn irgendwie verloren. Sie erinnern sich vage daran, dass es sich bei dem Verbrechen um einen Mord handelte, der sich irgendwann am 15. Januar 2018 ereignete, und dass er in SQL City stattfand. Beginnen Sie damit, den entsprechenden Tatortbericht (report) aus der richtigen Datei der Polizeibehörde anzuzeigen.\n",
    "\n",
    "**Fangen wir an:**"
   ]
  },
  {
   "cell_type": "markdown",
   "metadata": {},
   "source": [
    "**STEP 1** Wie sieht der Tatortbericht so aus?"
   ]
  },
  {
   "cell_type": "code",
   "execution_count": 71,
   "metadata": {},
   "outputs": [],
   "source": [
    "# ersten Zeilen des Tatortberichts\n"
   ]
  },
  {
   "cell_type": "markdown",
   "metadata": {},
   "source": [
    "**STEP 2** Der Mord hat am 15.01.2018 statt gefunden in SQL City.."
   ]
  },
  {
   "cell_type": "code",
   "execution_count": 72,
   "metadata": {},
   "outputs": [],
   "source": [
    "# Anzeigen der Information\n"
   ]
  },
  {
   "cell_type": "markdown",
   "metadata": {},
   "source": [
    "Finden Sie nun folgend die **Zeugen** und Ihre **Aussagen**:\n",
    "\n",
    "**STEP 3** Wer ist der erste Zeuge, was hat dieser gesehen und ausgesagt?"
   ]
  },
  {
   "cell_type": "code",
   "execution_count": null,
   "metadata": {},
   "outputs": [],
   "source": []
  },
  {
   "cell_type": "code",
   "execution_count": null,
   "metadata": {},
   "outputs": [],
   "source": []
  },
  {
   "cell_type": "markdown",
   "metadata": {},
   "source": [
    "**STEP 4** Hat der zweite Zeuge noch weitere wichtige Details festgestellt?"
   ]
  },
  {
   "cell_type": "code",
   "execution_count": null,
   "metadata": {},
   "outputs": [],
   "source": []
  },
  {
   "cell_type": "code",
   "execution_count": null,
   "metadata": {},
   "outputs": [],
   "source": []
  },
  {
   "cell_type": "markdown",
   "metadata": {},
   "source": [
    "**STEP 5** Tragen Sie kurz und prägnant die wichtigsten Details der **Zeugenaussagen** zusammen:"
   ]
  },
  {
   "cell_type": "markdown",
   "metadata": {},
   "source": []
  },
  {
   "cell_type": "markdown",
   "metadata": {},
   "source": [
    "**STEP 6** Können Wir mit diesen Aussagen eventuell ein paar weitere Details herausfinden? Vielleicht finden wir ja etwas im Fitenss-Center Mitglieder Verzeichnis."
   ]
  },
  {
   "cell_type": "code",
   "execution_count": null,
   "metadata": {},
   "outputs": [],
   "source": []
  },
  {
   "cell_type": "markdown",
   "metadata": {},
   "source": [
    "Hmmm.. Da haben wir ja nun Verdächtige. Nehmen wir diese mal unter die Lupe..\n",
    "\n",
    "**STEP 7** Wir haben die Namen und die Id's, mal checken wer am entsprechenden Datum im Fitness-Center war:"
   ]
  },
  {
   "cell_type": "code",
   "execution_count": null,
   "metadata": {},
   "outputs": [],
   "source": []
  },
  {
   "cell_type": "markdown",
   "metadata": {},
   "source": [
    "**STEP 8** Ist der Verdächtige nicht mit einem Auto weggefahren??"
   ]
  },
  {
   "cell_type": "code",
   "execution_count": null,
   "metadata": {},
   "outputs": [],
   "source": []
  },
  {
   "cell_type": "code",
   "execution_count": null,
   "metadata": {},
   "outputs": [],
   "source": []
  },
  {
   "cell_type": "code",
   "execution_count": null,
   "metadata": {},
   "outputs": [],
   "source": []
  },
  {
   "cell_type": "code",
   "execution_count": null,
   "metadata": {},
   "outputs": [],
   "source": []
  },
  {
   "cell_type": "markdown",
   "metadata": {},
   "source": [
    "**STEP 9** Wer ist der Mörder?"
   ]
  },
  {
   "cell_type": "markdown",
   "metadata": {},
   "source": []
  },
  {
   "cell_type": "markdown",
   "metadata": {},
   "source": []
  }
 ],
 "metadata": {
  "kernelspec": {
   "display_name": "Python 3",
   "language": "python",
   "name": "python3"
  },
  "language_info": {
   "codemirror_mode": {
    "name": "ipython",
    "version": 3
   },
   "file_extension": ".py",
   "mimetype": "text/x-python",
   "name": "python",
   "nbconvert_exporter": "python",
   "pygments_lexer": "ipython3",
   "version": "3.8.5"
  }
 },
 "nbformat": 4,
 "nbformat_minor": 2
}
