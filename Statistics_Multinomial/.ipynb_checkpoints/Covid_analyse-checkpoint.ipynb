{
 "cells": [
  {
   "cell_type": "markdown",
   "metadata": {},
   "source": [
    "# Aufgabe: Covid19\n",
    "\n",
    "In dieser Aufgabe sollen Sie einen Datensatz über Covid19 analysieren und ein paar einfache Fragen mit den gelernten Pandas-Tricks beantworten."
   ]
  },
  {
   "cell_type": "code",
   "execution_count": 72,
   "metadata": {},
   "outputs": [],
   "source": [
    "import pandas as pd\n",
    "import numpy as np\n",
    "import matplotlib.pyplot as plt"
   ]
  },
  {
   "cell_type": "code",
   "execution_count": 73,
   "metadata": {},
   "outputs": [],
   "source": [
    "# Einlesen des Datensatzes\n",
    "covid = pd.read_csv(\"covid_de.csv\")"
   ]
  },
  {
   "cell_type": "markdown",
   "metadata": {},
   "source": [
    "**STEP 1:** Machen Sie sich mit dem Datensatz kurz vertraut."
   ]
  },
  {
   "cell_type": "code",
   "execution_count": 74,
   "metadata": {},
   "outputs": [
    {
     "data": {
      "text/html": [
       "<div>\n",
       "<style scoped>\n",
       "    .dataframe tbody tr th:only-of-type {\n",
       "        vertical-align: middle;\n",
       "    }\n",
       "\n",
       "    .dataframe tbody tr th {\n",
       "        vertical-align: top;\n",
       "    }\n",
       "\n",
       "    .dataframe thead th {\n",
       "        text-align: right;\n",
       "    }\n",
       "</style>\n",
       "<table border=\"1\" class=\"dataframe\">\n",
       "  <thead>\n",
       "    <tr style=\"text-align: right;\">\n",
       "      <th></th>\n",
       "      <th>state</th>\n",
       "      <th>county</th>\n",
       "      <th>age_group</th>\n",
       "      <th>gender</th>\n",
       "      <th>date</th>\n",
       "      <th>cases</th>\n",
       "      <th>deaths</th>\n",
       "      <th>recovered</th>\n",
       "    </tr>\n",
       "  </thead>\n",
       "  <tbody>\n",
       "    <tr>\n",
       "      <th>0</th>\n",
       "      <td>Baden-Wuerttemberg</td>\n",
       "      <td>LK Alb-Donau-Kreis</td>\n",
       "      <td>00-04</td>\n",
       "      <td>F</td>\n",
       "      <td>2020-03-27</td>\n",
       "      <td>1</td>\n",
       "      <td>0</td>\n",
       "      <td>1</td>\n",
       "    </tr>\n",
       "    <tr>\n",
       "      <th>1</th>\n",
       "      <td>Baden-Wuerttemberg</td>\n",
       "      <td>LK Alb-Donau-Kreis</td>\n",
       "      <td>00-04</td>\n",
       "      <td>F</td>\n",
       "      <td>2020-03-28</td>\n",
       "      <td>1</td>\n",
       "      <td>0</td>\n",
       "      <td>1</td>\n",
       "    </tr>\n",
       "    <tr>\n",
       "      <th>2</th>\n",
       "      <td>Baden-Wuerttemberg</td>\n",
       "      <td>LK Alb-Donau-Kreis</td>\n",
       "      <td>00-04</td>\n",
       "      <td>F</td>\n",
       "      <td>2020-04-03</td>\n",
       "      <td>1</td>\n",
       "      <td>0</td>\n",
       "      <td>1</td>\n",
       "    </tr>\n",
       "    <tr>\n",
       "      <th>3</th>\n",
       "      <td>Baden-Wuerttemberg</td>\n",
       "      <td>LK Alb-Donau-Kreis</td>\n",
       "      <td>00-04</td>\n",
       "      <td>M</td>\n",
       "      <td>2020-04-05</td>\n",
       "      <td>1</td>\n",
       "      <td>0</td>\n",
       "      <td>1</td>\n",
       "    </tr>\n",
       "    <tr>\n",
       "      <th>4</th>\n",
       "      <td>Baden-Wuerttemberg</td>\n",
       "      <td>LK Alb-Donau-Kreis</td>\n",
       "      <td>00-04</td>\n",
       "      <td>M</td>\n",
       "      <td>2020-05-18</td>\n",
       "      <td>1</td>\n",
       "      <td>0</td>\n",
       "      <td>1</td>\n",
       "    </tr>\n",
       "  </tbody>\n",
       "</table>\n",
       "</div>"
      ],
      "text/plain": [
       "                state              county age_group gender        date  cases  \\\n",
       "0  Baden-Wuerttemberg  LK Alb-Donau-Kreis     00-04      F  2020-03-27      1   \n",
       "1  Baden-Wuerttemberg  LK Alb-Donau-Kreis     00-04      F  2020-03-28      1   \n",
       "2  Baden-Wuerttemberg  LK Alb-Donau-Kreis     00-04      F  2020-04-03      1   \n",
       "3  Baden-Wuerttemberg  LK Alb-Donau-Kreis     00-04      M  2020-04-05      1   \n",
       "4  Baden-Wuerttemberg  LK Alb-Donau-Kreis     00-04      M  2020-05-18      1   \n",
       "\n",
       "   deaths  recovered  \n",
       "0       0          1  \n",
       "1       0          1  \n",
       "2       0          1  \n",
       "3       0          1  \n",
       "4       0          1  "
      ]
     },
     "execution_count": 74,
     "metadata": {},
     "output_type": "execute_result"
    }
   ],
   "source": []
  },
  {
   "cell_type": "code",
   "execution_count": null,
   "metadata": {},
   "outputs": [],
   "source": []
  },
  {
   "cell_type": "markdown",
   "metadata": {},
   "source": [
    "**STEP 2:** Wie viele Menschen sind nach diesem Datensatz genesen?"
   ]
  },
  {
   "cell_type": "code",
   "execution_count": 1,
   "metadata": {},
   "outputs": [
    {
     "ename": "NameError",
     "evalue": "name 'covid' is not defined",
     "output_type": "error",
     "traceback": [
      "\u001b[1;31m---------------------------------------------------------------------------\u001b[0m",
      "\u001b[1;31mNameError\u001b[0m                                 Traceback (most recent call last)",
      "\u001b[1;32m<ipython-input-1-5d03310aaf1d>\u001b[0m in \u001b[0;36m<module>\u001b[1;34m\u001b[0m\n\u001b[1;32m----> 1\u001b[1;33m \u001b[0manzahl_genesen\u001b[0m \u001b[1;33m=\u001b[0m \u001b[0msum\u001b[0m\u001b[1;33m(\u001b[0m\u001b[0mcovid\u001b[0m\u001b[1;33m.\u001b[0m\u001b[0mrecovered\u001b[0m\u001b[1;33m)\u001b[0m\u001b[1;33m\u001b[0m\u001b[1;33m\u001b[0m\u001b[0m\n\u001b[0m\u001b[0;32m      2\u001b[0m \u001b[0manzahl_genesen\u001b[0m\u001b[1;33m\u001b[0m\u001b[1;33m\u001b[0m\u001b[0m\n",
      "\u001b[1;31mNameError\u001b[0m: name 'covid' is not defined"
     ]
    }
   ],
   "source": []
  },
  {
   "cell_type": "code",
   "execution_count": null,
   "metadata": {},
   "outputs": [],
   "source": []
  },
  {
   "cell_type": "markdown",
   "metadata": {},
   "source": [
    "**STEP 3.1:** Wo gab es die meisten Fälle in Deutschland? Listen Sie die Top 5 Bundesländer auf."
   ]
  },
  {
   "cell_type": "code",
   "execution_count": 79,
   "metadata": {},
   "outputs": [
    {
     "data": {
      "text/html": [
       "<div>\n",
       "<style scoped>\n",
       "    .dataframe tbody tr th:only-of-type {\n",
       "        vertical-align: middle;\n",
       "    }\n",
       "\n",
       "    .dataframe tbody tr th {\n",
       "        vertical-align: top;\n",
       "    }\n",
       "\n",
       "    .dataframe thead th {\n",
       "        text-align: right;\n",
       "    }\n",
       "</style>\n",
       "<table border=\"1\" class=\"dataframe\">\n",
       "  <thead>\n",
       "    <tr style=\"text-align: right;\">\n",
       "      <th></th>\n",
       "      <th>state</th>\n",
       "      <th>cases</th>\n",
       "    </tr>\n",
       "  </thead>\n",
       "  <tbody>\n",
       "    <tr>\n",
       "      <th>0</th>\n",
       "      <td>Nordrhein-Westfalen</td>\n",
       "      <td>63152</td>\n",
       "    </tr>\n",
       "    <tr>\n",
       "      <th>1</th>\n",
       "      <td>Bayern</td>\n",
       "      <td>62805</td>\n",
       "    </tr>\n",
       "    <tr>\n",
       "      <th>2</th>\n",
       "      <td>Baden-Wuerttemberg</td>\n",
       "      <td>45753</td>\n",
       "    </tr>\n",
       "    <tr>\n",
       "      <th>3</th>\n",
       "      <td>Niedersachsen</td>\n",
       "      <td>18159</td>\n",
       "    </tr>\n",
       "    <tr>\n",
       "      <th>4</th>\n",
       "      <td>Hessen</td>\n",
       "      <td>17083</td>\n",
       "    </tr>\n",
       "  </tbody>\n",
       "</table>\n",
       "</div>"
      ],
      "text/plain": [
       "                 state  cases\n",
       "0  Nordrhein-Westfalen  63152\n",
       "1               Bayern  62805\n",
       "2   Baden-Wuerttemberg  45753\n",
       "3        Niedersachsen  18159\n",
       "4               Hessen  17083"
      ]
     },
     "execution_count": 79,
     "metadata": {},
     "output_type": "execute_result"
    }
   ],
   "source": []
  },
  {
   "cell_type": "markdown",
   "metadata": {},
   "source": [
    "**STEP 3.2:** Wo gab es die wenigsten Tode in Deutschland? Listen Sie die Top 5 Bundesländer auf."
   ]
  },
  {
   "cell_type": "code",
   "execution_count": null,
   "metadata": {},
   "outputs": [],
   "source": []
  },
  {
   "cell_type": "markdown",
   "metadata": {},
   "source": [
    "**STEP 4:** Fügen Sie die Anzahl Fälle mit der Anzahl der Tode anhand der Bundesländer zusammen. Achten Sie darauf, dass keine Vermischungen von Zahlen von unterschiedlichen Bundesländern passieren."
   ]
  },
  {
   "cell_type": "code",
   "execution_count": null,
   "metadata": {},
   "outputs": [],
   "source": []
  },
  {
   "cell_type": "code",
   "execution_count": null,
   "metadata": {},
   "outputs": [],
   "source": []
  },
  {
   "cell_type": "code",
   "execution_count": null,
   "metadata": {},
   "outputs": [],
   "source": []
  },
  {
   "cell_type": "markdown",
   "metadata": {},
   "source": [
    "**STEP 5:** Stellen Sie einen einfach Bar-Plot da, welche die Bars von 'state' und 'deaths' anzeigt."
   ]
  },
  {
   "cell_type": "code",
   "execution_count": null,
   "metadata": {},
   "outputs": [],
   "source": []
  },
  {
   "cell_type": "code",
   "execution_count": 2,
   "metadata": {},
   "outputs": [
    {
     "ename": "NameError",
     "evalue": "name 'covid' is not defined",
     "output_type": "error",
     "traceback": [
      "\u001b[1;31m---------------------------------------------------------------------------\u001b[0m",
      "\u001b[1;31mNameError\u001b[0m                                 Traceback (most recent call last)",
      "\u001b[1;32m<ipython-input-2-99f039dd8323>\u001b[0m in \u001b[0;36m<module>\u001b[1;34m\u001b[0m\n\u001b[0;32m      1\u001b[0m \u001b[0mmonths\u001b[0m \u001b[1;33m=\u001b[0m \u001b[1;33m[\u001b[0m\u001b[1;34m'jan'\u001b[0m\u001b[1;33m,\u001b[0m \u001b[1;34m'feb'\u001b[0m\u001b[1;33m,\u001b[0m \u001b[1;34m'mar'\u001b[0m\u001b[1;33m,\u001b[0m \u001b[1;34m'apr'\u001b[0m\u001b[1;33m,\u001b[0m \u001b[1;34m'may'\u001b[0m\u001b[1;33m,\u001b[0m \u001b[1;34m'jun'\u001b[0m\u001b[1;33m,\u001b[0m \u001b[1;34m'jul'\u001b[0m\u001b[1;33m,\u001b[0m \u001b[1;34m'aug'\u001b[0m\u001b[1;33m,\u001b[0m \u001b[1;34m'sep'\u001b[0m\u001b[1;33m,\u001b[0m \u001b[1;34m'oct'\u001b[0m\u001b[1;33m,\u001b[0m \u001b[1;34m'nov'\u001b[0m\u001b[1;33m,\u001b[0m \u001b[1;34m'dec'\u001b[0m\u001b[1;33m]\u001b[0m\u001b[1;33m\u001b[0m\u001b[1;33m\u001b[0m\u001b[0m\n\u001b[1;32m----> 2\u001b[1;33m \u001b[0mcovid_month_list\u001b[0m \u001b[1;33m=\u001b[0m \u001b[1;33m[\u001b[0m\u001b[0mmonths\u001b[0m\u001b[1;33m[\u001b[0m\u001b[0mint\u001b[0m\u001b[1;33m(\u001b[0m\u001b[0mcovid\u001b[0m\u001b[1;33m.\u001b[0m\u001b[0mdate\u001b[0m\u001b[1;33m[\u001b[0m\u001b[0mi\u001b[0m\u001b[1;33m]\u001b[0m\u001b[1;33m[\u001b[0m\u001b[1;36m5\u001b[0m\u001b[1;33m]\u001b[0m\u001b[1;33m)\u001b[0m\u001b[1;33m*\u001b[0m\u001b[1;36m10\u001b[0m \u001b[1;33m+\u001b[0m \u001b[0mint\u001b[0m\u001b[1;33m(\u001b[0m\u001b[0mcovid\u001b[0m\u001b[1;33m.\u001b[0m\u001b[0mdate\u001b[0m\u001b[1;33m[\u001b[0m\u001b[0mi\u001b[0m\u001b[1;33m]\u001b[0m\u001b[1;33m[\u001b[0m\u001b[1;36m6\u001b[0m\u001b[1;33m]\u001b[0m\u001b[1;33m)\u001b[0m\u001b[1;33m*\u001b[0m\u001b[1;36m1\u001b[0m\u001b[1;33m]\u001b[0m \u001b[1;32mfor\u001b[0m \u001b[0mi\u001b[0m \u001b[1;32min\u001b[0m \u001b[0mrange\u001b[0m\u001b[1;33m(\u001b[0m\u001b[0mlen\u001b[0m\u001b[1;33m(\u001b[0m\u001b[0mcovid\u001b[0m\u001b[1;33m)\u001b[0m\u001b[1;33m)\u001b[0m\u001b[1;33m]\u001b[0m\u001b[1;33m\u001b[0m\u001b[1;33m\u001b[0m\u001b[0m\n\u001b[0m\u001b[0;32m      3\u001b[0m \u001b[0mcovid_months\u001b[0m \u001b[1;33m=\u001b[0m \u001b[0mcovid\u001b[0m\u001b[1;33m[\u001b[0m\u001b[1;33m[\u001b[0m\u001b[1;34m\"cases\"\u001b[0m\u001b[1;33m,\u001b[0m \u001b[1;34m\"deaths\"\u001b[0m\u001b[1;33m,\u001b[0m \u001b[1;34m\"recovered\"\u001b[0m\u001b[1;33m]\u001b[0m\u001b[1;33m]\u001b[0m\u001b[1;33m\u001b[0m\u001b[1;33m\u001b[0m\u001b[0m\n\u001b[0;32m      4\u001b[0m \u001b[0mcovid_months\u001b[0m\u001b[1;33m[\u001b[0m\u001b[1;34m'month'\u001b[0m\u001b[1;33m]\u001b[0m \u001b[1;33m=\u001b[0m \u001b[0mcovid_month_list\u001b[0m\u001b[1;33m\u001b[0m\u001b[1;33m\u001b[0m\u001b[0m\n",
      "\u001b[1;31mNameError\u001b[0m: name 'covid' is not defined"
     ]
    }
   ],
   "source": [
    "months = ['jan', 'feb', 'mar', 'apr', 'may', 'jun', 'jul', 'aug', 'sep', 'oct', 'nov', 'dec']\n",
    "covid_month_list = [months[int(covid.date[i][5])*10 + int(covid.date[i][6])*1] for i in range(len(covid))]\n",
    "covid_months = covid[[\"cases\", \"deaths\", \"recovered\"]]\n",
    "covid_months['month'] = covid_month_list"
   ]
  },
  {
   "cell_type": "markdown",
   "metadata": {},
   "source": [
    "**STEP 6:** Gruppieren Sie die *covid_months* anhand der Monate, Summieren sie die Fälle auf und Sortieren Sie die Liste absteigend anhand der Anzahl der Fälle"
   ]
  },
  {
   "cell_type": "code",
   "execution_count": 95,
   "metadata": {},
   "outputs": [],
   "source": []
  },
  {
   "cell_type": "markdown",
   "metadata": {},
   "source": [
    "**STEP 7:** Fügen Sie zwei Spalten dem *covid_months* DataFrame hinzu.\n",
    "\n",
    "* recovery_rate: Prozentualer Anteil von allen *recovered* Fällen\n",
    "* death_rate: Prozentualer Anteil von allen *deaths* Fällen\n",
    "\n",
    "Geben Sie das DataFrame am Ende aus und fragen Sie den Tutor, ob Sie alles richtig gemacht haben."
   ]
  },
  {
   "cell_type": "code",
   "execution_count": null,
   "metadata": {},
   "outputs": [],
   "source": []
  }
 ],
 "metadata": {
  "kernelspec": {
   "display_name": "Python 3",
   "language": "python",
   "name": "python3"
  },
  "language_info": {
   "codemirror_mode": {
    "name": "ipython",
    "version": 3
   },
   "file_extension": ".py",
   "mimetype": "text/x-python",
   "name": "python",
   "nbconvert_exporter": "python",
   "pygments_lexer": "ipython3",
   "version": "3.8.5"
  }
 },
 "nbformat": 4,
 "nbformat_minor": 2
}
